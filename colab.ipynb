{
  "cells": [
    {
      "cell_type": "code",
      "execution_count": 1,
      "metadata": {},
      "outputs": [],
      "source": [
        "import os\n",
        "\n",
        "KAGGLE =  os.getenv(\"KAGGLE_URL_BASE\") is not None\n",
        "COLAB = os.getenv(\"COLAB_GPU\") is not None\n",
        "TPU = os.getenv(\"XRT_TPU_CONFIG\") is not None\n",
        "LOCAL = not KAGGLE and not COLAB\n",
        "\n",
        "if not LOCAL:\n",
        "    !git clone https://github.com/nclibz/MRKnee/\n",
        "\n",
        "if COLAB:\n",
        "    os.chdir('/content/MRKnee/')\n",
        "    !git checkout v3\n",
        "    from google.colab import drive\n",
        "    drive.mount('/content/drive')\n",
        "    DATADIR = \"/content/drive/MyDrive/MRKnee/data\"\n",
        "    if TPU:\n",
        "        !pip install cloud-tpu-client==0.10 https://storage.googleapis.com/tpu-pytorch/wheels/torch_xla-1.9-cp37-cp37m-linux_x86_64.whl\n",
        "\n",
        "if KAGGLE:\n",
        "    os.chdir('/kaggle/working/MRKnee/')\n",
        "    !git checkout v3\n",
        "    DATADIR = \"/kaggle/input/mrknee/MRNet\"\n",
        "    \n",
        "    if TPU:\n",
        "        !pip install torchtext==0.9\n",
        "        !curl https://raw.githubusercontent.com/pytorch/xla/master/contrib/scripts/env-setup.py -o pytorch-xla-env-setup.py\n",
        "        !python pytorch-xla-env-setup.py --version 1.8\n",
        "\n",
        "if not LOCAL:\n",
        "    !pip install --quiet \"pytorch-lightning>=1.4.9\" \"torchmetrics>=0.5\" \"timm\" \"neptune-client\" \"optuna\" \"PyMySql\" \"torch-tb-profiler\"\n",
        "    !pip install albumentations --upgrade --quiet\n",
        "    BACKBONE = \"tf_efficientnetv2_s_in21k\"\n",
        "\n",
        "if LOCAL:\n",
        "    DATADIR = \"data\"\n",
        "    BACKBONE = 'mobilenetv3_large_100_miil_in21k'\n",
        "    %load_ext autoreload\n",
        "    %autoreload 2"
      ]
    },
    {
      "cell_type": "code",
      "execution_count": 2,
      "metadata": {},
      "outputs": [],
      "source": [
        "DIAGNOSIS = \"acl\"\n",
        "PLANE = \"sagittal\""
      ]
    },
    {
      "cell_type": "code",
      "execution_count": 3,
      "metadata": {
        "id": "mS6KbHiLEwJi"
      },
      "outputs": [
        {
          "name": "stderr",
          "output_type": "stream",
          "text": [
            "Global seed set to 123\n"
          ]
        },
        {
          "data": {
            "text/plain": [
              "123"
            ]
          },
          "execution_count": 3,
          "metadata": {},
          "output_type": "execute_result"
        }
      ],
      "source": [
        "from src.study import Study\n",
        "from src.model import MRKnee\n",
        "from src.data import MRKneeDataModule\n",
        "from src.augmentations import Augmentations\n",
        "from src.callbacks import Callbacks\n",
        "from src.cfg import Cfg\n",
        "import pytorch_lightning as pl\n",
        "\n",
        "pl.seed_everything(123)"
      ]
    },
    {
      "cell_type": "code",
      "execution_count": 7,
      "metadata": {
        "id": "0odqVZ7KEwJj"
      },
      "outputs": [],
      "source": [
        "\n",
        "def objective(trial, diagnosis=DIAGNOSIS, plane=PLANE, backbone=BACKBONE, datadir=DATADIR, profile = False):\n",
        "\n",
        "    model = MRKnee(\n",
        "        backbone=backbone,\n",
        "        drop_rate=trial.suggest_int(\"drop_rate\", 30, 80, step = 5) / 100,\n",
        "        final_drop=trial.suggest_int(\"final_drop\", 0, 30, step = 5) / 100,\n",
        "        learning_rate=trial.suggest_loguniform('lr', 1e-6, 1e-3),\n",
        "        log_auc=True,\n",
        "        log_ind_loss=False,\n",
        "        adam_wd=trial.suggest_loguniform('adam_wd', 0.001, 0.1),\n",
        "        max_epochs=20,\n",
        "        precision=32,\n",
        "    )\n",
        "\n",
        "    augs = Augmentations(\n",
        "        model,\n",
        "        shift_limit=trial.suggest_int(\"shift_limit\", 0, 15) / 100,\n",
        "        scale_limit=trial.suggest_int(\"scale_limit\", 0, 15) / 100,\n",
        "        rotate_limit=trial.suggest_int(\"rotate_limit\", 0, 15) / 100,\n",
        "        reverse_p=0.5,\n",
        "        indp_normalz=True,\n",
        "    )\n",
        "\n",
        "    dm = MRKneeDataModule(\n",
        "        datadir=datadir,\n",
        "        diagnosis=diagnosis,\n",
        "        plane=plane,\n",
        "        transforms=augs,\n",
        "        clean=True,\n",
        "        num_workers=2,\n",
        "        pin_memory=True,\n",
        "        trim_train=True,\n",
        "    )\n",
        "\n",
        "    configs = Cfg(model = model, dm = dm, augs = augs)\n",
        "    cfg = configs.get_cfg()\n",
        "    \n",
        "    if trial is not None:\n",
        "        callbacks = Callbacks(cfg, trial, neptune_name=\"mrkneev3\")\n",
        "        neptune_logger = callbacks.get_neptune_logger()\n",
        "        list_of_cbs = callbacks.get_callbacks()\n",
        "        fast_dev_run = False\n",
        "    else:\n",
        "        neptune_logger = False\n",
        "        list_of_cbs = None\n",
        "        fast_dev_run = 50\n",
        "\n",
        "    profiler = pl.profiler.PyTorchProfiler(dirpath = \"src/logs\", filename = \"profiler\") if profile else False\n",
        "        \n",
        "\n",
        "\n",
        "    trainer = pl.Trainer(\n",
        "        gpus=1,\n",
        "        precision=cfg[\"precision\"],\n",
        "        max_epochs=cfg[\"max_epochs\"],\n",
        "        logger=neptune_logger,\n",
        "        log_every_n_steps=100,\n",
        "        num_sanity_val_steps=0,\n",
        "        callbacks=list_of_cbs,\n",
        "        progress_bar_refresh_rate=20,\n",
        "        deterministic=True,\n",
        "        profiler = profiler, \n",
        "        fast_dev_run = fast_dev_run,\n",
        "    )\n",
        "\n",
        "    trainer.fit(model, dm)\n",
        "\n",
        "    ## UPLOAD BEST CHECKPOINTS TO LOG\n",
        "    if trial is not None:\n",
        "        callbacks.upload_best_checkpoints()\n",
        "\n",
        "    return callbacks.model_checkpoint.best_model_score.item()\n"
      ]
    },
    {
      "cell_type": "code",
      "execution_count": 5,
      "metadata": {},
      "outputs": [
        {
          "name": "stderr",
          "output_type": "stream",
          "text": [
            "/home/nicolai/miniconda3/envs/dl/lib/python3.9/site-packages/optuna/samplers/_tpe/sampler.py:263: ExperimentalWarning: ``multivariate`` option is an experimental feature. The interface can change in the future.\n",
            "  warnings.warn(\n",
            "\u001b[32m[I 2021-10-08 14:49:20,589]\u001b[0m A new study created in RDB with name: acl_sagittal_mobilenetv3_large_100_miil_in21k\u001b[0m\n"
          ]
        }
      ],
      "source": [
        "# For testing\n",
        "#objective(trial = None)\n",
        "\n",
        "study = Study(diagnosis = DIAGNOSIS,\n",
        "              plane = PLANE,\n",
        "              backbone=BACKBONE,\n",
        "              min_epochs=10)"
      ]
    },
    {
      "cell_type": "code",
      "execution_count": null,
      "metadata": {
        "id": "JdYUoCTxEwJk"
      },
      "outputs": [],
      "source": [
        "\n",
        "study.optimize(objective, n_trials=40, n_trials = 20)"
      ]
    },
    {
      "cell_type": "code",
      "execution_count": null,
      "metadata": {},
      "outputs": [],
      "source": []
    }
  ],
  "metadata": {
    "accelerator": "GPU",
    "colab": {
      "name": "colab.ipynb",
      "provenance": []
    },
    "interpreter": {
      "hash": "abca6c4c30ca8b1572eaf6dbdb066fe101b3df9342c8f2ea2bdb847c9dcb6eec"
    },
    "kernelspec": {
      "display_name": "Python 3.9.7 64-bit ('dl': conda)",
      "name": "python3"
    },
    "language_info": {
      "codemirror_mode": {
        "name": "ipython",
        "version": 3
      },
      "file_extension": ".py",
      "mimetype": "text/x-python",
      "name": "python",
      "nbconvert_exporter": "python",
      "pygments_lexer": "ipython3",
      "version": "3.9.7"
    },
    "orig_nbformat": 2
  },
  "nbformat": 4,
  "nbformat_minor": 2
}
