{
 "metadata": {
  "language_info": {
   "codemirror_mode": {
    "name": "ipython",
    "version": 3
   },
   "file_extension": ".py",
   "mimetype": "text/x-python",
   "name": "python",
   "nbconvert_exporter": "python",
   "pygments_lexer": "ipython3",
   "version": "3.8.6-final"
  },
  "orig_nbformat": 2,
  "kernelspec": {
   "name": "python3",
   "display_name": "Python 3",
   "language": "python"
  }
 },
 "nbformat": 4,
 "nbformat_minor": 2,
 "cells": [
  {
   "cell_type": "code",
   "execution_count": 31,
   "metadata": {},
   "outputs": [],
   "source": [
    "from utils import KneePlot\n",
    "import pandas as pd\n",
    "import numpy as np\n",
    "from ipywidgets import interact, Dropdown, IntSlider\n",
    "import matplotlib.pyplot as plt\n",
    "\n",
    "\n",
    "# skal kunne tage enkelt casenumber eller output list med tensors fra DM"
   ]
  },
  {
   "cell_type": "code",
   "execution_count": 32,
   "metadata": {},
   "outputs": [],
   "source": [
    "\n",
    "train_path = 'data/train/'\n",
    "\n",
    "def load_one_stack(case, data_path=train_path, plane='coronal'):\n",
    "    fpath = '{}/{}/{}.npy'.format(data_path, plane, case)\n",
    "    return np.load(fpath)\n",
    "\n",
    "def load_stacks(case, data_path=train_path):\n",
    "    x = {}\n",
    "    planes = ['coronal', 'sagittal', 'axial']\n",
    "    for i, plane in enumerate(planes):\n",
    "        x[plane] = load_one_stack(case, plane=plane)\n",
    "    return x\n",
    "\n",
    "\n",
    "def load_cases(train=True, n=None):\n",
    "    assert (type(n) == int) and (n < 1250)\n",
    "    if train:\n",
    "        case_list = pd.read_csv('data/train-acl.csv', names=['case', 'label'], header=None,\n",
    "                               dtype={'case': str, 'label': np.int64})['case'].tolist()        \n",
    "    else:\n",
    "        case_list = pd.read_csv('data/valid-acl.csv', names=['case', 'label'], header=None,\n",
    "                               dtype={'case': str, 'label': np.int64})['case'].tolist()        \n",
    "    cases = {}\n",
    "    \n",
    "    if n is not None:\n",
    "        case_list = case_list[:n]\n",
    "        \n",
    "    for case in case_list:\n",
    "        x = load_stacks(case)\n",
    "        cases[case] = x\n",
    "    return cases\n",
    "\n",
    "cases = load_cases(n=100)"
   ]
  },
  {
   "cell_type": "code",
   "execution_count": 33,
   "metadata": {},
   "outputs": [],
   "source": [
    "class KneePlot():\n",
    "    def __init__(self, cases, figsize=(15, 5)):\n",
    "        self.cases = cases\n",
    "        \n",
    "        self.planes = {case: ['coronal', 'sagittal', 'axial'] for case in self.cases}\n",
    "    \n",
    "        self.slice_nums = {}\n",
    "        for case in self.cases:\n",
    "            self.slice_nums[case] = {}\n",
    "            for plane in ['coronal', 'sagittal', 'axial']:\n",
    "                self.slice_nums[case][plane] = self.cases[case][plane].shape[0]\n",
    "\n",
    "        self.figsize = figsize\n",
    "        \n",
    "    def _plot_slices(self, case, im_slice_coronal, im_slice_sagittal, im_slice_axial):\n",
    "        fig, (ax1, ax2, ax3) = plt.subplots(1, 3, figsize=self.figsize)\n",
    "        \n",
    "        ax1.imshow(self.cases[case]['coronal'][im_slice_coronal, :, :], 'gray')\n",
    "        ax1.set_title(f'MRI slice {im_slice_coronal} on coronal plane')\n",
    "        \n",
    "        ax2.imshow(self.cases[case]['sagittal'][im_slice_sagittal, :, :], 'gray')\n",
    "        ax2.set_title(f'MRI slice {im_slice_sagittal} on sagittal plane')\n",
    "        \n",
    "        ax3.imshow(self.cases[case]['axial'][im_slice_axial, :, :], 'gray')\n",
    "        ax3.set_title(f'MRI slice {im_slice_axial} on axial plane')\n",
    "        \n",
    "        plt.show()\n",
    "    \n",
    "    def draw(self):\n",
    "        case_widget = Dropdown(options=list(self.cases.keys()),\n",
    "                               description='Case'\n",
    "                              \n",
    "                              )\n",
    "        case_init = list(self.cases.keys())[0]\n",
    "\n",
    "\n",
    "        slice_init_coronal = self.slice_nums[case_init]['coronal'] - 1        \n",
    "        slices_widget_coronal = IntSlider(min=0, \n",
    "                                          max=slice_init_coronal, \n",
    "                                          value=slice_init_coronal // 2, \n",
    "                                          description='Coronal')\n",
    "        \n",
    "        slice_init_sagittal = self.slice_nums[case_init]['sagittal'] - 1        \n",
    "        slices_widget_sagittal = IntSlider(min=0,\n",
    "                                           max=slice_init_sagittal,\n",
    "                                           value=slice_init_sagittal // 2,\n",
    "                                           description='Sagittal'\n",
    "                                          )\n",
    "        \n",
    "        slice_init_axial = self.slice_nums[case_init]['axial'] - 1        \n",
    "        slices_widget_axial = IntSlider(min=0,\n",
    "                                        max=slice_init_axial,\n",
    "                                        value=slice_init_axial // 2,\n",
    "                                        description='Axial'\n",
    "                                       )\n",
    "        \n",
    "        def update_slices_widget(*args):\n",
    "            slices_widget_coronal.max = self.slice_nums[case_widget.value]['coronal'] - 1\n",
    "            slices_widget_coronal.value = slices_widget_coronal.max // 2\n",
    "            \n",
    "            slices_widget_sagittal.max = self.slice_nums[case_widget.value]['sagittal'] - 1\n",
    "            slices_widget_sagittal.value = slices_widget_sagittal.max // 2\n",
    "            \n",
    "            slices_widget_axial.max = self.slice_nums[case_widget.value]['axial'] - 1\n",
    "            slices_widget_axial.value = slices_widget_axial.max // 2\n",
    "    \n",
    "        \n",
    "        case_widget.observe(update_slices_widget, 'value')\n",
    "        interact(self._plot_slices,\n",
    "                 case=case_widget, \n",
    "                 im_slice_coronal=slices_widget_coronal, \n",
    "                 im_slice_sagittal=slices_widget_sagittal, \n",
    "                 im_slice_axial=slices_widget_axial\n",
    "                )\n",
    "    \n",
    "    def resize(self, figsize): \n",
    "        self.figsize = figsize"
   ]
  },
  {
   "cell_type": "code",
   "execution_count": 34,
   "metadata": {},
   "outputs": [
    {
     "output_type": "display_data",
     "data": {
      "text/plain": "interactive(children=(Dropdown(description='Case', options=('0000', '0001', '0002', '0003', '0004', '0005', '0…",
      "application/vnd.jupyter.widget-view+json": {
       "version_major": 2,
       "version_minor": 0,
       "model_id": "29e961459d304ec084cde2cc00e79ec2"
      }
     },
     "metadata": {}
    }
   ],
   "source": [
    "plot = KneePlot(cases)\n",
    "plot.draw()"
   ]
  },
  {
   "cell_type": "code",
   "execution_count": null,
   "metadata": {},
   "outputs": [],
   "source": []
  }
 ]
}